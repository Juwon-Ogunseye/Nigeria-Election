{
 "cells": [
  {
   "cell_type": "code",
   "execution_count": 2,
   "metadata": {},
   "outputs": [],
   "source": [
    "import snscrape.modules.twitter as sntwitter\n",
    "import pandas as pd\n",
    "import csv"
   ]
  },
  {
   "cell_type": "code",
   "execution_count": 1,
   "metadata": {},
   "outputs": [
    {
     "ename": "NameError",
     "evalue": "name 'sntwitter' is not defined",
     "output_type": "error",
     "traceback": [
      "\u001b[1;31m---------------------------------------------------------------------------\u001b[0m",
      "\u001b[1;31mNameError\u001b[0m                                 Traceback (most recent call last)",
      "Cell \u001b[1;32mIn [1], line 7\u001b[0m\n\u001b[0;32m      4\u001b[0m count\u001b[39m=\u001b[39m\u001b[39m0\u001b[39m\n\u001b[0;32m      5\u001b[0m \u001b[39m#csv_headers=['Obi Tweets']\u001b[39;00m\n\u001b[1;32m----> 7\u001b[0m \u001b[39mfor\u001b[39;00m tweet \u001b[39min\u001b[39;00m sntwitter\u001b[39m.\u001b[39mTwitterSearchScraper(query)\u001b[39m.\u001b[39mget_items():\n\u001b[0;32m      8\u001b[0m     count \u001b[39m+\u001b[39m\u001b[39m=\u001b[39m\u001b[39m1\u001b[39m\n\u001b[0;32m      9\u001b[0m     \u001b[39m#print (vars(tweet))\u001b[39;00m\n\u001b[0;32m     10\u001b[0m     \u001b[39m#break\u001b[39;00m\n",
      "\u001b[1;31mNameError\u001b[0m: name 'sntwitter' is not defined"
     ]
    }
   ],
   "source": [
    "query='\"Peter Obi\" \"until:2012-03-17 since:2006-03-17\"'\n",
    "tweets=[]\n",
    "limit=3\n",
    "count=0\n",
    "#csv_headers=['Obi Tweets']\n",
    "\n",
    "for tweet in sntwitter.TwitterSearchScraper(query).get_items():\n",
    "    count +=1\n",
    "    #print (vars(tweet))\n",
    "    #break\n",
    "    if len(tweets)==limit:\n",
    "        break\n",
    "    else:\n",
    "        tweets.append([tweet.date, tweet.content, tweet.user.username,tweet.user.location, tweet.retweetCount, tweet.likeCount, tweet.sourceLabel, tweet.coordinates])\n",
    "        print('Number', count, ':success')\n",
    "df=pd.DataFrame(tweets, columns=['date', 'text', 'username', 'location', 'retweetcount', 'likecount', 'source', 'cordinates'])\n",
    "df.to_csv('zzz.csv', index=False)\n",
    "#print(df)\n",
    "    #with open('Obi_tweet.csv.csv', 'w', encoding='utf-8', newline='') as f:\n",
    "        #writer=csv.writer(f)\n",
    "        #writer.writerow([df])"
   ]
  },
  {
   "cell_type": "code",
   "execution_count": 4,
   "metadata": {},
   "outputs": [
    {
     "name": "stderr",
     "output_type": "stream",
     "text": [
      "C:\\Users\\HP\\AppData\\Local\\Temp\\ipykernel_2752\\917183004.py:1: DtypeWarning: Columns (4,5) have mixed types. Specify dtype option on import or set low_memory=False.\n",
      "  df_obi = pd.read_csv(r'c:\\Users\\HP\\Desktop\\EverSed\\DataLeum\\First Project Portfolio\\second project\\AllObiTweets.csv', encoding='latin-1', index_col=None) #:using r help me to converts a normal string to a raw string:\n"
     ]
    }
   ],
   "source": [
    "df_obi = pd.read_csv(r'c:\\Users\\HP\\Desktop\\EverSed\\DataLeum\\First Project Portfolio\\second project\\AllObiTweets.csv', encoding='latin-1', index_col=None) #:using r help me to converts a normal string to a raw string:\n",
    "#import os\n",
    "#rest_relation = pd.read_csv(os.path.join(os.getcwd(), 'AllObiTweets.csv'), delimiter=',')"
   ]
  },
  {
   "cell_type": "code",
   "execution_count": 14,
   "metadata": {},
   "outputs": [
    {
     "name": "stdout",
     "output_type": "stream",
     "text": [
      "c:\\Users\\HP\\Desktop\\EverSed\\DataLeum\\First Project Portfolio\\second project\n"
     ]
    }
   ],
   "source": [
    "import os #to get the current directory of my file\n",
    "current_directory = os.getcwd()\n",
    "print(current_directory) "
   ]
  },
  {
   "cell_type": "code",
   "execution_count": 5,
   "metadata": {},
   "outputs": [
    {
     "data": {
      "text/html": [
       "<div>\n",
       "<style scoped>\n",
       "    .dataframe tbody tr th:only-of-type {\n",
       "        vertical-align: middle;\n",
       "    }\n",
       "\n",
       "    .dataframe tbody tr th {\n",
       "        vertical-align: top;\n",
       "    }\n",
       "\n",
       "    .dataframe thead th {\n",
       "        text-align: right;\n",
       "    }\n",
       "</style>\n",
       "<table border=\"1\" class=\"dataframe\">\n",
       "  <thead>\n",
       "    <tr style=\"text-align: right;\">\n",
       "      <th></th>\n",
       "      <th>date</th>\n",
       "      <th>text</th>\n",
       "      <th>username</th>\n",
       "      <th>location</th>\n",
       "      <th>retweetcount</th>\n",
       "      <th>likecount</th>\n",
       "      <th>source</th>\n",
       "      <th>cordinates</th>\n",
       "    </tr>\n",
       "  </thead>\n",
       "  <tbody>\n",
       "    <tr>\n",
       "      <th>0</th>\n",
       "      <td>2022-03-16 23:56:49+00:00</td>\n",
       "      <td>@peace_igho @kenstine @SmallMitch09 @ProGesh10...</td>\n",
       "      <td>SapphireBlend</td>\n",
       "      <td>Around the Globeð</td>\n",
       "      <td>0</td>\n",
       "      <td>3</td>\n",
       "      <td>Twitter for Android</td>\n",
       "      <td>NaN</td>\n",
       "    </tr>\n",
       "    <tr>\n",
       "      <th>1</th>\n",
       "      <td>2022-03-16 23:55:26+00:00</td>\n",
       "      <td>@Ibrahim77404362 @ChibuzoEzendu @firstladyship...</td>\n",
       "      <td>Philips79713377</td>\n",
       "      <td>NaN</td>\n",
       "      <td>0</td>\n",
       "      <td>0</td>\n",
       "      <td>Twitter for Android</td>\n",
       "      <td>NaN</td>\n",
       "    </tr>\n",
       "    <tr>\n",
       "      <th>2</th>\n",
       "      <td>2022-03-16 23:54:05+00:00</td>\n",
       "      <td>@Damilare1213 @MrBanRichy @Naija_PR @PeterObi ...</td>\n",
       "      <td>MarkOke5</td>\n",
       "      <td>ÙÙØ© Ø§ÙÙÙØ±ÙØ©, Ø§ÙÙÙÙÙØ© Ø§ÙØ¹Ø±...</td>\n",
       "      <td>0</td>\n",
       "      <td>2</td>\n",
       "      <td>Twitter for Android</td>\n",
       "      <td>NaN</td>\n",
       "    </tr>\n",
       "  </tbody>\n",
       "</table>\n",
       "</div>"
      ],
      "text/plain": [
       "                        date  \\\n",
       "0  2022-03-16 23:56:49+00:00   \n",
       "1  2022-03-16 23:55:26+00:00   \n",
       "2  2022-03-16 23:54:05+00:00   \n",
       "\n",
       "                                                text         username  \\\n",
       "0  @peace_igho @kenstine @SmallMitch09 @ProGesh10...    SapphireBlend   \n",
       "1  @Ibrahim77404362 @ChibuzoEzendu @firstladyship...  Philips79713377   \n",
       "2  @Damilare1213 @MrBanRichy @Naija_PR @PeterObi ...         MarkOke5   \n",
       "\n",
       "                                            location retweetcount likecount  \\\n",
       "0                               Around the Globeð            0         3   \n",
       "1                                                NaN            0         0   \n",
       "2  Ù\n",
       "ÙØ© Ø§ÙÙ\n",
       "ÙØ±Ù\n",
       "Ø©, Ø§ÙÙ\n",
       "Ù\n",
       "ÙÙØ© Ø§ÙØ¹Ø±...            0         2   \n",
       "\n",
       "                source cordinates  \n",
       "0  Twitter for Android        NaN  \n",
       "1  Twitter for Android        NaN  \n",
       "2  Twitter for Android        NaN  "
      ]
     },
     "execution_count": 5,
     "metadata": {},
     "output_type": "execute_result"
    }
   ],
   "source": [
    "df_obi.head(3)"
   ]
  },
  {
   "cell_type": "code",
   "execution_count": 41,
   "metadata": {},
   "outputs": [],
   "source": [
    "df_obi['date']=df_obi['date'].apply(str)"
   ]
  },
  {
   "cell_type": "code",
   "execution_count": 6,
   "metadata": {},
   "outputs": [
    {
     "ename": "ParserError",
     "evalue": "Unknown string format: date",
     "output_type": "error",
     "traceback": [
      "\u001b[1;31m---------------------------------------------------------------------------\u001b[0m",
      "\u001b[1;31mTypeError\u001b[0m                                 Traceback (most recent call last)",
      "File \u001b[1;32mc:\\Users\\HP\\anaconda3\\lib\\site-packages\\pandas\\core\\arrays\\datetimes.py:2236\u001b[0m, in \u001b[0;36mobjects_to_datetime64ns\u001b[1;34m(data, dayfirst, yearfirst, utc, errors, require_iso8601, allow_object, allow_mixed)\u001b[0m\n\u001b[0;32m   2235\u001b[0m \u001b[39mtry\u001b[39;00m:\n\u001b[1;32m-> 2236\u001b[0m     values, tz_parsed \u001b[39m=\u001b[39m conversion\u001b[39m.\u001b[39;49mdatetime_to_datetime64(data\u001b[39m.\u001b[39;49mravel(\u001b[39m\"\u001b[39;49m\u001b[39mK\u001b[39;49m\u001b[39m\"\u001b[39;49m))\n\u001b[0;32m   2237\u001b[0m     \u001b[39m# If tzaware, these values represent unix timestamps, so we\u001b[39;00m\n\u001b[0;32m   2238\u001b[0m     \u001b[39m#  return them as i8 to distinguish from wall times\u001b[39;00m\n",
      "File \u001b[1;32mc:\\Users\\HP\\anaconda3\\lib\\site-packages\\pandas\\_libs\\tslibs\\conversion.pyx:360\u001b[0m, in \u001b[0;36mpandas._libs.tslibs.conversion.datetime_to_datetime64\u001b[1;34m()\u001b[0m\n",
      "\u001b[1;31mTypeError\u001b[0m: Unrecognized value type: <class 'str'>",
      "\nDuring handling of the above exception, another exception occurred:\n",
      "\u001b[1;31mParserError\u001b[0m                               Traceback (most recent call last)",
      "Cell \u001b[1;32mIn [6], line 5\u001b[0m\n\u001b[0;32m      1\u001b[0m \u001b[39m#df_obi['date']=pd.to_datetime(df_obi['date'], format='%d/%m/%Y', errors='coerce')\u001b[39;00m\n\u001b[0;32m      2\u001b[0m \n\u001b[0;32m      3\u001b[0m \u001b[39m# had to use coerce errors, so that the  invalid parsing will be set as NaT as it kept throwing unknown string error. \u001b[39;00m\n\u001b[0;32m      4\u001b[0m \u001b[39m#df_obi= pd.to_datetime('date', format='%d/%m/%Y', errors='coerce')\u001b[39;00m\n\u001b[1;32m----> 5\u001b[0m df_obi[\u001b[39m'\u001b[39m\u001b[39mdate\u001b[39m\u001b[39m'\u001b[39m] \u001b[39m=\u001b[39m pd\u001b[39m.\u001b[39;49mto_datetime(df_obi[\u001b[39m'\u001b[39;49m\u001b[39mdate\u001b[39;49m\u001b[39m'\u001b[39;49m])\n\u001b[0;32m      7\u001b[0m df_obi\u001b[39m.\u001b[39mhead(\u001b[39m3\u001b[39m)\n",
      "File \u001b[1;32mc:\\Users\\HP\\anaconda3\\lib\\site-packages\\pandas\\core\\tools\\datetimes.py:1051\u001b[0m, in \u001b[0;36mto_datetime\u001b[1;34m(arg, errors, dayfirst, yearfirst, utc, format, exact, unit, infer_datetime_format, origin, cache)\u001b[0m\n\u001b[0;32m   1049\u001b[0m         result \u001b[39m=\u001b[39m arg\u001b[39m.\u001b[39mmap(cache_array)\n\u001b[0;32m   1050\u001b[0m     \u001b[39melse\u001b[39;00m:\n\u001b[1;32m-> 1051\u001b[0m         values \u001b[39m=\u001b[39m convert_listlike(arg\u001b[39m.\u001b[39;49m_values, \u001b[39mformat\u001b[39;49m)\n\u001b[0;32m   1052\u001b[0m         result \u001b[39m=\u001b[39m arg\u001b[39m.\u001b[39m_constructor(values, index\u001b[39m=\u001b[39marg\u001b[39m.\u001b[39mindex, name\u001b[39m=\u001b[39marg\u001b[39m.\u001b[39mname)\n\u001b[0;32m   1053\u001b[0m \u001b[39melif\u001b[39;00m \u001b[39misinstance\u001b[39m(arg, (ABCDataFrame, abc\u001b[39m.\u001b[39mMutableMapping)):\n",
      "File \u001b[1;32mc:\\Users\\HP\\anaconda3\\lib\\site-packages\\pandas\\core\\tools\\datetimes.py:402\u001b[0m, in \u001b[0;36m_convert_listlike_datetimes\u001b[1;34m(arg, format, name, tz, unit, errors, infer_datetime_format, dayfirst, yearfirst, exact)\u001b[0m\n\u001b[0;32m    400\u001b[0m \u001b[39massert\u001b[39;00m \u001b[39mformat\u001b[39m \u001b[39mis\u001b[39;00m \u001b[39mNone\u001b[39;00m \u001b[39mor\u001b[39;00m infer_datetime_format\n\u001b[0;32m    401\u001b[0m utc \u001b[39m=\u001b[39m tz \u001b[39m==\u001b[39m \u001b[39m\"\u001b[39m\u001b[39mutc\u001b[39m\u001b[39m\"\u001b[39m\n\u001b[1;32m--> 402\u001b[0m result, tz_parsed \u001b[39m=\u001b[39m objects_to_datetime64ns(\n\u001b[0;32m    403\u001b[0m     arg,\n\u001b[0;32m    404\u001b[0m     dayfirst\u001b[39m=\u001b[39;49mdayfirst,\n\u001b[0;32m    405\u001b[0m     yearfirst\u001b[39m=\u001b[39;49myearfirst,\n\u001b[0;32m    406\u001b[0m     utc\u001b[39m=\u001b[39;49mutc,\n\u001b[0;32m    407\u001b[0m     errors\u001b[39m=\u001b[39;49merrors,\n\u001b[0;32m    408\u001b[0m     require_iso8601\u001b[39m=\u001b[39;49mrequire_iso8601,\n\u001b[0;32m    409\u001b[0m     allow_object\u001b[39m=\u001b[39;49m\u001b[39mTrue\u001b[39;49;00m,\n\u001b[0;32m    410\u001b[0m )\n\u001b[0;32m    412\u001b[0m \u001b[39mif\u001b[39;00m tz_parsed \u001b[39mis\u001b[39;00m \u001b[39mnot\u001b[39;00m \u001b[39mNone\u001b[39;00m:\n\u001b[0;32m    413\u001b[0m     \u001b[39m# We can take a shortcut since the datetime64 numpy array\u001b[39;00m\n\u001b[0;32m    414\u001b[0m     \u001b[39m# is in UTC\u001b[39;00m\n\u001b[0;32m    415\u001b[0m     dta \u001b[39m=\u001b[39m DatetimeArray(result, dtype\u001b[39m=\u001b[39mtz_to_dtype(tz_parsed))\n",
      "File \u001b[1;32mc:\\Users\\HP\\anaconda3\\lib\\site-packages\\pandas\\core\\arrays\\datetimes.py:2242\u001b[0m, in \u001b[0;36mobjects_to_datetime64ns\u001b[1;34m(data, dayfirst, yearfirst, utc, errors, require_iso8601, allow_object, allow_mixed)\u001b[0m\n\u001b[0;32m   2240\u001b[0m         \u001b[39mreturn\u001b[39;00m values\u001b[39m.\u001b[39mview(\u001b[39m\"\u001b[39m\u001b[39mi8\u001b[39m\u001b[39m\"\u001b[39m), tz_parsed\n\u001b[0;32m   2241\u001b[0m     \u001b[39mexcept\u001b[39;00m (\u001b[39mValueError\u001b[39;00m, \u001b[39mTypeError\u001b[39;00m):\n\u001b[1;32m-> 2242\u001b[0m         \u001b[39mraise\u001b[39;00m err\n\u001b[0;32m   2244\u001b[0m \u001b[39mif\u001b[39;00m tz_parsed \u001b[39mis\u001b[39;00m \u001b[39mnot\u001b[39;00m \u001b[39mNone\u001b[39;00m:\n\u001b[0;32m   2245\u001b[0m     \u001b[39m# We can take a shortcut since the datetime64 numpy array\u001b[39;00m\n\u001b[0;32m   2246\u001b[0m     \u001b[39m#  is in UTC\u001b[39;00m\n\u001b[0;32m   2247\u001b[0m     \u001b[39m# Return i8 values to denote unix timestamps\u001b[39;00m\n\u001b[0;32m   2248\u001b[0m     \u001b[39mreturn\u001b[39;00m result\u001b[39m.\u001b[39mview(\u001b[39m\"\u001b[39m\u001b[39mi8\u001b[39m\u001b[39m\"\u001b[39m), tz_parsed\n",
      "File \u001b[1;32mc:\\Users\\HP\\anaconda3\\lib\\site-packages\\pandas\\core\\arrays\\datetimes.py:2224\u001b[0m, in \u001b[0;36mobjects_to_datetime64ns\u001b[1;34m(data, dayfirst, yearfirst, utc, errors, require_iso8601, allow_object, allow_mixed)\u001b[0m\n\u001b[0;32m   2222\u001b[0m order: Literal[\u001b[39m\"\u001b[39m\u001b[39mF\u001b[39m\u001b[39m\"\u001b[39m, \u001b[39m\"\u001b[39m\u001b[39mC\u001b[39m\u001b[39m\"\u001b[39m] \u001b[39m=\u001b[39m \u001b[39m\"\u001b[39m\u001b[39mF\u001b[39m\u001b[39m\"\u001b[39m \u001b[39mif\u001b[39;00m flags\u001b[39m.\u001b[39mf_contiguous \u001b[39melse\u001b[39;00m \u001b[39m\"\u001b[39m\u001b[39mC\u001b[39m\u001b[39m\"\u001b[39m\n\u001b[0;32m   2223\u001b[0m \u001b[39mtry\u001b[39;00m:\n\u001b[1;32m-> 2224\u001b[0m     result, tz_parsed \u001b[39m=\u001b[39m tslib\u001b[39m.\u001b[39;49marray_to_datetime(\n\u001b[0;32m   2225\u001b[0m         data\u001b[39m.\u001b[39;49mravel(\u001b[39m\"\u001b[39;49m\u001b[39mK\u001b[39;49m\u001b[39m\"\u001b[39;49m),\n\u001b[0;32m   2226\u001b[0m         errors\u001b[39m=\u001b[39;49merrors,\n\u001b[0;32m   2227\u001b[0m         utc\u001b[39m=\u001b[39;49mutc,\n\u001b[0;32m   2228\u001b[0m         dayfirst\u001b[39m=\u001b[39;49mdayfirst,\n\u001b[0;32m   2229\u001b[0m         yearfirst\u001b[39m=\u001b[39;49myearfirst,\n\u001b[0;32m   2230\u001b[0m         require_iso8601\u001b[39m=\u001b[39;49mrequire_iso8601,\n\u001b[0;32m   2231\u001b[0m         allow_mixed\u001b[39m=\u001b[39;49mallow_mixed,\n\u001b[0;32m   2232\u001b[0m     )\n\u001b[0;32m   2233\u001b[0m     result \u001b[39m=\u001b[39m result\u001b[39m.\u001b[39mreshape(data\u001b[39m.\u001b[39mshape, order\u001b[39m=\u001b[39morder)\n\u001b[0;32m   2234\u001b[0m \u001b[39mexcept\u001b[39;00m \u001b[39mValueError\u001b[39;00m \u001b[39mas\u001b[39;00m err:\n",
      "File \u001b[1;32mc:\\Users\\HP\\anaconda3\\lib\\site-packages\\pandas\\_libs\\tslib.pyx:381\u001b[0m, in \u001b[0;36mpandas._libs.tslib.array_to_datetime\u001b[1;34m()\u001b[0m\n",
      "File \u001b[1;32mc:\\Users\\HP\\anaconda3\\lib\\site-packages\\pandas\\_libs\\tslib.pyx:613\u001b[0m, in \u001b[0;36mpandas._libs.tslib.array_to_datetime\u001b[1;34m()\u001b[0m\n",
      "File \u001b[1;32mc:\\Users\\HP\\anaconda3\\lib\\site-packages\\pandas\\_libs\\tslib.pyx:751\u001b[0m, in \u001b[0;36mpandas._libs.tslib._array_to_datetime_object\u001b[1;34m()\u001b[0m\n",
      "File \u001b[1;32mc:\\Users\\HP\\anaconda3\\lib\\site-packages\\pandas\\_libs\\tslib.pyx:742\u001b[0m, in \u001b[0;36mpandas._libs.tslib._array_to_datetime_object\u001b[1;34m()\u001b[0m\n",
      "File \u001b[1;32mc:\\Users\\HP\\anaconda3\\lib\\site-packages\\pandas\\_libs\\tslibs\\parsing.pyx:281\u001b[0m, in \u001b[0;36mpandas._libs.tslibs.parsing.parse_datetime_string\u001b[1;34m()\u001b[0m\n",
      "File \u001b[1;32m~\\AppData\\Roaming\\Python\\Python39\\site-packages\\dateutil\\parser\\_parser.py:1368\u001b[0m, in \u001b[0;36mparse\u001b[1;34m(timestr, parserinfo, **kwargs)\u001b[0m\n\u001b[0;32m   1366\u001b[0m     \u001b[39mreturn\u001b[39;00m parser(parserinfo)\u001b[39m.\u001b[39mparse(timestr, \u001b[39m*\u001b[39m\u001b[39m*\u001b[39mkwargs)\n\u001b[0;32m   1367\u001b[0m \u001b[39melse\u001b[39;00m:\n\u001b[1;32m-> 1368\u001b[0m     \u001b[39mreturn\u001b[39;00m DEFAULTPARSER\u001b[39m.\u001b[39mparse(timestr, \u001b[39m*\u001b[39m\u001b[39m*\u001b[39mkwargs)\n",
      "File \u001b[1;32m~\\AppData\\Roaming\\Python\\Python39\\site-packages\\dateutil\\parser\\_parser.py:643\u001b[0m, in \u001b[0;36mparser.parse\u001b[1;34m(self, timestr, default, ignoretz, tzinfos, **kwargs)\u001b[0m\n\u001b[0;32m    640\u001b[0m res, skipped_tokens \u001b[39m=\u001b[39m \u001b[39mself\u001b[39m\u001b[39m.\u001b[39m_parse(timestr, \u001b[39m*\u001b[39m\u001b[39m*\u001b[39mkwargs)\n\u001b[0;32m    642\u001b[0m \u001b[39mif\u001b[39;00m res \u001b[39mis\u001b[39;00m \u001b[39mNone\u001b[39;00m:\n\u001b[1;32m--> 643\u001b[0m     \u001b[39mraise\u001b[39;00m ParserError(\u001b[39m\"\u001b[39m\u001b[39mUnknown string format: \u001b[39m\u001b[39m%s\u001b[39;00m\u001b[39m\"\u001b[39m, timestr)\n\u001b[0;32m    645\u001b[0m \u001b[39mif\u001b[39;00m \u001b[39mlen\u001b[39m(res) \u001b[39m==\u001b[39m \u001b[39m0\u001b[39m:\n\u001b[0;32m    646\u001b[0m     \u001b[39mraise\u001b[39;00m ParserError(\u001b[39m\"\u001b[39m\u001b[39mString does not contain a date: \u001b[39m\u001b[39m%s\u001b[39;00m\u001b[39m\"\u001b[39m, timestr)\n",
      "\u001b[1;31mParserError\u001b[0m: Unknown string format: date"
     ]
    }
   ],
   "source": [
    "#df_obi['date']=pd.to_datetime(df_obi['date'], format='%d/%m/%Y', errors='coerce')\n",
    "\n",
    "# had to use coerce errors, so that the  invalid parsing will be set as NaT as it kept throwing unknown string error. \n",
    "#df_obi= pd.to_datetime('date', format='%d/%m/%Y', errors='coerce')\n",
    "df_obi['date'] = pd.to_datetime(df_obi['date'])\n",
    "\n",
    "df_obi.head(3)\n",
    "\n"
   ]
  },
  {
   "cell_type": "code",
   "execution_count": 11,
   "metadata": {},
   "outputs": [
    {
     "data": {
      "text/plain": [
       "date            object\n",
       "text            object\n",
       "username        object\n",
       "location        object\n",
       "retweetcount    object\n",
       "likecount       object\n",
       "source          object\n",
       "cordinates      object\n",
       "dtype: object"
      ]
     },
     "execution_count": 11,
     "metadata": {},
     "output_type": "execute_result"
    }
   ],
   "source": [
    "df_obi.dtypes"
   ]
  },
  {
   "cell_type": "code",
   "execution_count": 26,
   "metadata": {},
   "outputs": [],
   "source": [
    "del df_obi['cordinates']"
   ]
  },
  {
   "cell_type": "code",
   "execution_count": 27,
   "metadata": {},
   "outputs": [],
   "source": [
    "import re"
   ]
  },
  {
   "cell_type": "code",
   "execution_count": 28,
   "metadata": {},
   "outputs": [],
   "source": [
    "df_obi['text']=df_obi['text'].apply(str) #my text column  had a pandas core.series.series datatype so i had to convert into string because it was throwing a expected string like object error\n",
    "df_obi['location']=df_obi['location'].apply(str)"
   ]
  },
  {
   "cell_type": "code",
   "execution_count": 29,
   "metadata": {},
   "outputs": [
    {
     "data": {
      "text/html": [
       "<div>\n",
       "<style scoped>\n",
       "    .dataframe tbody tr th:only-of-type {\n",
       "        vertical-align: middle;\n",
       "    }\n",
       "\n",
       "    .dataframe tbody tr th {\n",
       "        vertical-align: top;\n",
       "    }\n",
       "\n",
       "    .dataframe thead th {\n",
       "        text-align: right;\n",
       "    }\n",
       "</style>\n",
       "<table border=\"1\" class=\"dataframe\">\n",
       "  <thead>\n",
       "    <tr style=\"text-align: right;\">\n",
       "      <th></th>\n",
       "      <th>date</th>\n",
       "      <th>text</th>\n",
       "      <th>username</th>\n",
       "      <th>location</th>\n",
       "      <th>retweetcount</th>\n",
       "      <th>likecount</th>\n",
       "      <th>source</th>\n",
       "      <th>cleaned_tweets</th>\n",
       "    </tr>\n",
       "  </thead>\n",
       "  <tbody>\n",
       "    <tr>\n",
       "      <th>0</th>\n",
       "      <td>NaT</td>\n",
       "      <td>@peace_igho @kenstine @SmallMitch09 @ProGesh10...</td>\n",
       "      <td>SapphireBlend</td>\n",
       "      <td>around the globeð</td>\n",
       "      <td>0</td>\n",
       "      <td>3</td>\n",
       "      <td>Twitter for Android</td>\n",
       "      <td>i really wish they can give it to peter ob...</td>\n",
       "    </tr>\n",
       "    <tr>\n",
       "      <th>1</th>\n",
       "      <td>NaT</td>\n",
       "      <td>@Ibrahim77404362 @ChibuzoEzendu @firstladyship...</td>\n",
       "      <td>Philips79713377</td>\n",
       "      <td>nan</td>\n",
       "      <td>0</td>\n",
       "      <td>0</td>\n",
       "      <td>Twitter for Android</td>\n",
       "      <td>i dont understand the emotional blackmail b...</td>\n",
       "    </tr>\n",
       "    <tr>\n",
       "      <th>2</th>\n",
       "      <td>NaT</td>\n",
       "      <td>@Damilare1213 @MrBanRichy @Naija_PR @PeterObi ...</td>\n",
       "      <td>MarkOke5</td>\n",
       "      <td>ùùø© ø§ùùùø±ùø© ø§ùùùùùø© ø§ùø¹ø±ø...</td>\n",
       "      <td>0</td>\n",
       "      <td>2</td>\n",
       "      <td>Twitter for Android</td>\n",
       "      <td>peter obi did better than the  of them com...</td>\n",
       "    </tr>\n",
       "  </tbody>\n",
       "</table>\n",
       "</div>"
      ],
      "text/plain": [
       "  date                                               text         username  \\\n",
       "0  NaT  @peace_igho @kenstine @SmallMitch09 @ProGesh10...    SapphireBlend   \n",
       "1  NaT  @Ibrahim77404362 @ChibuzoEzendu @firstladyship...  Philips79713377   \n",
       "2  NaT  @Damilare1213 @MrBanRichy @Naija_PR @PeterObi ...         MarkOke5   \n",
       "\n",
       "                                            location retweetcount likecount  \\\n",
       "0                               around the globeð            0         3   \n",
       "1                                                nan            0         0   \n",
       "2  ù\n",
       "ùø© ø§ùù\n",
       "ùø±ù\n",
       "ø© ø§ùù\n",
       "ù\n",
       "ùùø© ø§ùø¹ø±ø...            0         2   \n",
       "\n",
       "                source                                     cleaned_tweets  \n",
       "0  Twitter for Android      i really wish they can give it to peter ob...  \n",
       "1  Twitter for Android     i dont understand the emotional blackmail b...  \n",
       "2  Twitter for Android      peter obi did better than the  of them com...  "
      ]
     },
     "execution_count": 29,
     "metadata": {},
     "output_type": "execute_result"
    }
   ],
   "source": [
    "\n",
    "def cleanTwt(twt):\n",
    "    twt = twt.lower()\n",
    "    emoji_pattern = re.compile(\"[\"\n",
    "        u\"\\U0001F600-\\U0001F64F\"  # emoticons\n",
    "        u\"\\U0001F300-\\U0001F5FF\"  # symbols & pictographs\n",
    "        u\"\\U0001F680-\\U0001F6FF\"  # transport & map symbols\n",
    "        u\"\\U0001F1E0-\\U0001F1FF\"  # flags (iOS)\n",
    "                           \"]+\", flags=re.UNICODE)\n",
    "    twt=re.sub('#PeterObi', 'PeterObi', twt) #remnove has tags from Peter Obi\n",
    "    twt = re.sub ('#peterobi', 'peterobi', twt)\n",
    "    twt= re.sub('#Obi', 'Obi', twt)\n",
    "    twt= re.sub('#obi', 'obi', twt)\n",
    "    twt=re.sub('#[A-Za-z0-9]+', '', twt) #removes any string with a has tag\n",
    "    twt=re.sub('\\\\n', '', twt) #removes all \\n from strings \n",
    "    twt=re.sub('https?:\\/\\/\\s+', '', twt) #removes all hyperlinks \n",
    "    twt = re.sub('\\@\\w+|\\#\\w+|\\d+','',twt) # Remove @mentions\n",
    "    twt = re.sub('#','',twt)  #Removing the # symbols\n",
    "    twt = re.sub(':','',twt)  #Removing the : symbols\n",
    "    twt = re.sub('\\\"','',twt) #Removing the \" symbols\n",
    "    twt = re.sub('\\”','',twt) #Removing the ” symbols\n",
    "    twt = re.sub('\\“','',twt) #Removing the “ symbols\n",
    "    twt = re.sub('\\’','',twt) #Removing the ’ symbols\n",
    "    twt = re.sub('\\/','',twt) #Removing the / symbols\n",
    "    twt = re.sub('\\|','',twt) #Removing the | symbols\n",
    "    twt = re.sub('\\?','',twt) #Removing the ? symbols\n",
    "    twt = re.sub('\\.','',twt) #Removing the . symbols\n",
    "    twt = re.sub('\\,','',twt) #Removing the , symbols\n",
    "    twt = re.sub('\\!','',twt) #Removing the ! symbols\n",
    "    twt = re.sub('@','',twt) #Removing the @ symbols\n",
    "    twt = re.sub('\\'','',twt) #Removing the ' symbols\n",
    "    twt = re.sub('\\\\n','',twt) #Removing the \\n symbols\n",
    "    twt = re.sub('\\\\r','',twt) #Removing the \\r symbols\n",
    "    twt = re.sub('\\*','',twt) #Removing the * symbols\n",
    "    return twt \n",
    "\n",
    "df_obi['cleaned_tweets']= df_obi['text'].apply(cleanTwt)\n",
    "df_obi['location']=df_obi['location'].apply(cleanTwt)\n",
    "df_obi.head(3)\n",
    "\n"
   ]
  },
  {
   "cell_type": "code",
   "execution_count": 30,
   "metadata": {},
   "outputs": [],
   "source": [
    "df_obi['location'] = df_obi['location'].replace(to_replace=[''], value='Unknown')\n",
    "df_obi['location'] = df_obi['location'].replace(to_replace=['unknown'], value='Unknown')"
   ]
  },
  {
   "cell_type": "code",
   "execution_count": 31,
   "metadata": {},
   "outputs": [],
   "source": [
    "import nltk \n",
    "from nltk.tokenize import word_tokenize "
   ]
  },
  {
   "cell_type": "code",
   "execution_count": 32,
   "metadata": {},
   "outputs": [],
   "source": [
    "from textblob import TextBlob\n",
    "import numpy as np "
   ]
  },
  {
   "cell_type": "code",
   "execution_count": 33,
   "metadata": {},
   "outputs": [
    {
     "data": {
      "text/html": [
       "<div>\n",
       "<style scoped>\n",
       "    .dataframe tbody tr th:only-of-type {\n",
       "        vertical-align: middle;\n",
       "    }\n",
       "\n",
       "    .dataframe tbody tr th {\n",
       "        vertical-align: top;\n",
       "    }\n",
       "\n",
       "    .dataframe thead th {\n",
       "        text-align: right;\n",
       "    }\n",
       "</style>\n",
       "<table border=\"1\" class=\"dataframe\">\n",
       "  <thead>\n",
       "    <tr style=\"text-align: right;\">\n",
       "      <th></th>\n",
       "      <th>date</th>\n",
       "      <th>text</th>\n",
       "      <th>username</th>\n",
       "      <th>location</th>\n",
       "      <th>retweetcount</th>\n",
       "      <th>likecount</th>\n",
       "      <th>source</th>\n",
       "      <th>cleaned_tweets</th>\n",
       "      <th>subjectivity</th>\n",
       "      <th>polarity</th>\n",
       "    </tr>\n",
       "  </thead>\n",
       "  <tbody>\n",
       "    <tr>\n",
       "      <th>0</th>\n",
       "      <td>NaT</td>\n",
       "      <td>@peace_igho @kenstine @SmallMitch09 @ProGesh10...</td>\n",
       "      <td>SapphireBlend</td>\n",
       "      <td>around the globeð</td>\n",
       "      <td>0</td>\n",
       "      <td>3</td>\n",
       "      <td>Twitter for Android</td>\n",
       "      <td>i really wish they can give it to peter ob...</td>\n",
       "      <td>0.366667</td>\n",
       "      <td>-0.033333</td>\n",
       "    </tr>\n",
       "    <tr>\n",
       "      <th>1</th>\n",
       "      <td>NaT</td>\n",
       "      <td>@Ibrahim77404362 @ChibuzoEzendu @firstladyship...</td>\n",
       "      <td>Philips79713377</td>\n",
       "      <td>nan</td>\n",
       "      <td>0</td>\n",
       "      <td>0</td>\n",
       "      <td>Twitter for Android</td>\n",
       "      <td>i dont understand the emotional blackmail b...</td>\n",
       "      <td>0.650000</td>\n",
       "      <td>0.000000</td>\n",
       "    </tr>\n",
       "    <tr>\n",
       "      <th>2</th>\n",
       "      <td>NaT</td>\n",
       "      <td>@Damilare1213 @MrBanRichy @Naija_PR @PeterObi ...</td>\n",
       "      <td>MarkOke5</td>\n",
       "      <td>ùùø© ø§ùùùø±ùø© ø§ùùùùùø© ø§ùø¹ø±ø...</td>\n",
       "      <td>0</td>\n",
       "      <td>2</td>\n",
       "      <td>Twitter for Android</td>\n",
       "      <td>peter obi did better than the  of them com...</td>\n",
       "      <td>0.321429</td>\n",
       "      <td>0.214286</td>\n",
       "    </tr>\n",
       "  </tbody>\n",
       "</table>\n",
       "</div>"
      ],
      "text/plain": [
       "  date                                               text         username  \\\n",
       "0  NaT  @peace_igho @kenstine @SmallMitch09 @ProGesh10...    SapphireBlend   \n",
       "1  NaT  @Ibrahim77404362 @ChibuzoEzendu @firstladyship...  Philips79713377   \n",
       "2  NaT  @Damilare1213 @MrBanRichy @Naija_PR @PeterObi ...         MarkOke5   \n",
       "\n",
       "                                            location retweetcount likecount  \\\n",
       "0                               around the globeð            0         3   \n",
       "1                                                nan            0         0   \n",
       "2  ù\n",
       "ùø© ø§ùù\n",
       "ùø±ù\n",
       "ø© ø§ùù\n",
       "ù\n",
       "ùùø© ø§ùø¹ø±ø...            0         2   \n",
       "\n",
       "                source                                     cleaned_tweets  \\\n",
       "0  Twitter for Android      i really wish they can give it to peter ob...   \n",
       "1  Twitter for Android     i dont understand the emotional blackmail b...   \n",
       "2  Twitter for Android      peter obi did better than the  of them com...   \n",
       "\n",
       "   subjectivity  polarity  \n",
       "0      0.366667 -0.033333  \n",
       "1      0.650000  0.000000  \n",
       "2      0.321429  0.214286  "
      ]
     },
     "execution_count": 33,
     "metadata": {},
     "output_type": "execute_result"
    }
   ],
   "source": [
    "#Get subjectivity in Obi tweets \n",
    "def getSubjectivity(twt):\n",
    "    return TextBlob (twt).sentiment.subjectivity\n",
    "def getPolarity(twt):\n",
    "    return TextBlob (twt).sentiment.polarity\n",
    "#create colums for subjecxtivity and polarity\n",
    "df_obi['subjectivity']=df_obi['cleaned_tweets'].apply(getSubjectivity)\n",
    "df_obi['polarity']=df_obi['cleaned_tweets'].apply(getPolarity)\n",
    "df_obi.head(3)"
   ]
  },
  {
   "cell_type": "code",
   "execution_count": 56,
   "metadata": {},
   "outputs": [
    {
     "data": {
      "text/html": [
       "<div>\n",
       "<style scoped>\n",
       "    .dataframe tbody tr th:only-of-type {\n",
       "        vertical-align: middle;\n",
       "    }\n",
       "\n",
       "    .dataframe tbody tr th {\n",
       "        vertical-align: top;\n",
       "    }\n",
       "\n",
       "    .dataframe thead th {\n",
       "        text-align: right;\n",
       "    }\n",
       "</style>\n",
       "<table border=\"1\" class=\"dataframe\">\n",
       "  <thead>\n",
       "    <tr style=\"text-align: right;\">\n",
       "      <th></th>\n",
       "      <th>date</th>\n",
       "      <th>text</th>\n",
       "      <th>username</th>\n",
       "      <th>location</th>\n",
       "      <th>retweetcount</th>\n",
       "      <th>likecount</th>\n",
       "      <th>source</th>\n",
       "      <th>cleaned_tweets</th>\n",
       "      <th>subjectivity</th>\n",
       "      <th>polarity</th>\n",
       "      <th>sentiment</th>\n",
       "    </tr>\n",
       "  </thead>\n",
       "  <tbody>\n",
       "    <tr>\n",
       "      <th>0</th>\n",
       "      <td>NaT</td>\n",
       "      <td>@peace_igho @kenstine @SmallMitch09 @ProGesh10...</td>\n",
       "      <td>SapphireBlend</td>\n",
       "      <td>around the globeð</td>\n",
       "      <td>0</td>\n",
       "      <td>3</td>\n",
       "      <td>Twitter for Android</td>\n",
       "      <td>i really wish they can give it to peter ob...</td>\n",
       "      <td>0.366667</td>\n",
       "      <td>-0.033333</td>\n",
       "      <td>negative</td>\n",
       "    </tr>\n",
       "    <tr>\n",
       "      <th>1</th>\n",
       "      <td>NaT</td>\n",
       "      <td>@Ibrahim77404362 @ChibuzoEzendu @firstladyship...</td>\n",
       "      <td>Philips79713377</td>\n",
       "      <td>nan</td>\n",
       "      <td>0</td>\n",
       "      <td>0</td>\n",
       "      <td>Twitter for Android</td>\n",
       "      <td>i dont understand the emotional blackmail b...</td>\n",
       "      <td>0.650000</td>\n",
       "      <td>0.000000</td>\n",
       "      <td>neutral</td>\n",
       "    </tr>\n",
       "    <tr>\n",
       "      <th>2</th>\n",
       "      <td>NaT</td>\n",
       "      <td>@Damilare1213 @MrBanRichy @Naija_PR @PeterObi ...</td>\n",
       "      <td>MarkOke5</td>\n",
       "      <td>ùùø© ø§ùùùø±ùø© ø§ùùùùùø© ø§ùø¹ø±ø...</td>\n",
       "      <td>0</td>\n",
       "      <td>2</td>\n",
       "      <td>Twitter for Android</td>\n",
       "      <td>peter obi did better than the  of them com...</td>\n",
       "      <td>0.321429</td>\n",
       "      <td>0.214286</td>\n",
       "      <td>positive</td>\n",
       "    </tr>\n",
       "  </tbody>\n",
       "</table>\n",
       "</div>"
      ],
      "text/plain": [
       "  date                                               text         username  \\\n",
       "0  NaT  @peace_igho @kenstine @SmallMitch09 @ProGesh10...    SapphireBlend   \n",
       "1  NaT  @Ibrahim77404362 @ChibuzoEzendu @firstladyship...  Philips79713377   \n",
       "2  NaT  @Damilare1213 @MrBanRichy @Naija_PR @PeterObi ...         MarkOke5   \n",
       "\n",
       "                                            location retweetcount likecount  \\\n",
       "0                               around the globeð            0         3   \n",
       "1                                                nan            0         0   \n",
       "2  ù\n",
       "ùø© ø§ùù\n",
       "ùø±ù\n",
       "ø© ø§ùù\n",
       "ù\n",
       "ùùø© ø§ùø¹ø±ø...            0         2   \n",
       "\n",
       "                source                                     cleaned_tweets  \\\n",
       "0  Twitter for Android      i really wish they can give it to peter ob...   \n",
       "1  Twitter for Android     i dont understand the emotional blackmail b...   \n",
       "2  Twitter for Android      peter obi did better than the  of them com...   \n",
       "\n",
       "   subjectivity  polarity sentiment  \n",
       "0      0.366667 -0.033333  negative  \n",
       "1      0.650000  0.000000   neutral  \n",
       "2      0.321429  0.214286  positive  "
      ]
     },
     "execution_count": 56,
     "metadata": {},
     "output_type": "execute_result"
    }
   ],
   "source": [
    "#create a function to get the text sentiment \n",
    "def GetSentiment(score):\n",
    "    if score<0:\n",
    "        return 'negative'\n",
    "    elif score ==0:\n",
    "        return 'neutral'\n",
    "    else:\n",
    "        return 'positive'\n",
    "df_obi['sentiment']= df_obi['polarity'].apply(GetSentiment)\n",
    "df_obi.head(3)\n",
    "   "
   ]
  },
  {
   "cell_type": "code",
   "execution_count": 58,
   "metadata": {},
   "outputs": [
    {
     "data": {
      "text/plain": [
       "neutral     102819\n",
       "positive     59100\n",
       "negative     26723\n",
       "Name: sentiment, dtype: int64"
      ]
     },
     "execution_count": 58,
     "metadata": {},
     "output_type": "execute_result"
    }
   ],
   "source": [
    "df_obi['sentiment'].value_counts()"
   ]
  },
  {
   "cell_type": "code",
   "execution_count": 57,
   "metadata": {},
   "outputs": [],
   "source": [
    "df_obi.to_csv('MasterListObi_tweets.csv',encoding='utf-8-sig', index=False)"
   ]
  }
 ],
 "metadata": {
  "kernelspec": {
   "display_name": "Python 3.9.13 64-bit ('anaconda3')",
   "language": "python",
   "name": "python3"
  },
  "language_info": {
   "codemirror_mode": {
    "name": "ipython",
    "version": 3
   },
   "file_extension": ".py",
   "mimetype": "text/x-python",
   "name": "python",
   "nbconvert_exporter": "python",
   "pygments_lexer": "ipython3"
  },
  "orig_nbformat": 4,
  "vscode": {
   "interpreter": {
    "hash": "dc07d24e2f18896857f0b2a651fe84ba40ce7b297e58d8804a308c8039f752a6"
   }
  }
 },
 "nbformat": 4,
 "nbformat_minor": 2
}
